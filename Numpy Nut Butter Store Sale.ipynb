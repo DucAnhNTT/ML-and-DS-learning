{
 "cells": [
  {
   "cell_type": "code",
   "execution_count": 1,
   "id": "2fe43d1b-9e65-4b3e-8041-76b6ba338824",
   "metadata": {},
   "outputs": [],
   "source": [
    "import numpy as np"
   ]
  },
  {
   "cell_type": "code",
   "execution_count": 2,
   "id": "2d5b079f-46d8-4daf-9571-52ea7a518666",
   "metadata": {},
   "outputs": [],
   "source": [
    "import pandas as pd"
   ]
  },
  {
   "cell_type": "code",
   "execution_count": 3,
   "id": "a2e7f90f-006b-4300-aa47-c55ac41b9e9f",
   "metadata": {},
   "outputs": [],
   "source": [
    "a = np.array([2, 4, 6, 8, 10, 12])"
   ]
  },
  {
   "cell_type": "code",
   "execution_count": 4,
   "id": "e9158626-e10f-4dfd-9062-4e50724849b2",
   "metadata": {},
   "outputs": [],
   "source": [
    "b = np.array([1, 50, 100, 400, 2000, 4000])"
   ]
  },
  {
   "cell_type": "code",
   "execution_count": 5,
   "id": "5512476c-8253-4a76-875a-3fe6513999ea",
   "metadata": {},
   "outputs": [
    {
     "data": {
      "text/plain": [
       "(3.415650255319866, 2169983.4722222225)"
      ]
     },
     "execution_count": 5,
     "metadata": {},
     "output_type": "execute_result"
    }
   ],
   "source": [
    "a.std(), b.var()"
   ]
  },
  {
   "cell_type": "code",
   "execution_count": 6,
   "id": "653fe400-8599-4b24-896b-f8e06affa293",
   "metadata": {},
   "outputs": [
    {
     "data": {
      "image/png": "[encoded data removed]",
      "text/plain": [
       "<Figure size 640x480 with 1 Axes>"
      ]
     },
     "metadata": {},
     "output_type": "display_data"
    }
   ],
   "source": [
    "import matplotlib.pyplot as plt\n",
    "plt.hist(b)\n",
    "plt.show()"
   ]
  },
  {
   "cell_type": "code",
   "execution_count": 7,
   "id": "71c657da-e6af-4f37-a45a-1fc6fdb91dfa",
   "metadata": {},
   "outputs": [],
   "source": [
    "a_4_3 = np.random.randint(10 , size= (4,3))"
   ]
  },
  {
   "cell_type": "code",
   "execution_count": 8,
   "id": "ce2ae801-8fa1-4f49-977d-dc01601f4a35",
   "metadata": {},
   "outputs": [
    {
     "data": {
      "text/plain": [
       "array([[0, 6, 0],\n",
       "       [4, 4, 3],\n",
       "       [9, 9, 1],\n",
       "       [0, 7, 2]])"
      ]
     },
     "execution_count": 8,
     "metadata": {},
     "output_type": "execute_result"
    }
   ],
   "source": [
    "a_4_3"
   ]
  },
  {
   "cell_type": "code",
   "execution_count": 9,
   "id": "00fb496b-d741-49e5-a447-1e4cdb290bf1",
   "metadata": {},
   "outputs": [],
   "source": [
    "a_2_3_2 = a_4_3.reshape(2,3, 2)"
   ]
  },
  {
   "cell_type": "code",
   "execution_count": 10,
   "id": "c3c73a0e-9d8c-4c6b-b5e4-558bddc5b33a",
   "metadata": {},
   "outputs": [],
   "source": [
    "a_6_2 = a_2_3_2.reshape(2, 6)"
   ]
  },
  {
   "cell_type": "code",
   "execution_count": 11,
   "id": "2d32b33a-6085-4962-a4fa-38a307320b27",
   "metadata": {},
   "outputs": [
    {
     "data": {
      "text/plain": [
       "(array([[1., 0., 0., 0., 0., 0., 0., 0., 0., 1.],\n",
       "        [0., 0., 0., 0., 0., 0., 1., 0., 0., 1.],\n",
       "        [1., 1., 0., 0., 0., 0., 0., 0., 0., 0.],\n",
       "        [1., 0., 0., 0., 1., 0., 0., 0., 0., 0.],\n",
       "        [0., 0., 0., 0., 1., 0., 0., 1., 0., 0.],\n",
       "        [0., 0., 1., 1., 0., 0., 0., 0., 0., 0.]]),\n",
       " array([0. , 0.9, 1.8, 2.7, 3.6, 4.5, 5.4, 6.3, 7.2, 8.1, 9. ]),\n",
       " <a list of 6 BarContainer objects>)"
      ]
     },
     "execution_count": 11,
     "metadata": {},
     "output_type": "execute_result"
    },
    {
     "data": {
      "image/png": "[encoded data removed]",
      "text/plain": [
       "<Figure size 640x480 with 1 Axes>"
      ]
     },
     "metadata": {},
     "output_type": "display_data"
    }
   ],
   "source": [
    "plt.hist(a_6_2)"
   ]
  },
  {
   "cell_type": "code",
   "execution_count": 12,
   "id": "7c0ffc80-b0e6-4753-8bcc-279f28db30ee",
   "metadata": {},
   "outputs": [],
   "source": [
    "mat1 = np.random.randint(10, size = (3, 4))\n",
    "mat2 = np.random.randint(10, size = (3, 4))"
   ]
  },
  {
   "cell_type": "code",
   "execution_count": 13,
   "id": "40bbefaf-4804-48cd-9ad1-e4c3498a6d44",
   "metadata": {},
   "outputs": [
    {
     "data": {
      "text/plain": [
       "array([[ 0, 21, 48, 16],\n",
       "       [30,  0,  0, 30],\n",
       "       [25,  0,  5,  0]])"
      ]
     },
     "execution_count": 13,
     "metadata": {},
     "output_type": "execute_result"
    }
   ],
   "source": [
    "mat1 * mat2"
   ]
  },
  {
   "cell_type": "code",
   "execution_count": 14,
   "id": "27dc390d-d042-476a-b7b4-8d297f3297f2",
   "metadata": {},
   "outputs": [
    {
     "ename": "ValueError",
     "evalue": "shapes (3,4) and (3,4) not aligned: 4 (dim 1) != 3 (dim 0)",
     "output_type": "error",
     "traceback": [
      "\u001b[1;31m---------------------------------------------------------------------------\u001b[0m",
      "\u001b[1;31mValueError\u001b[0m                                Traceback (most recent call last)",
      "Cell \u001b[1;32mIn[14], line 1\u001b[0m\n\u001b[1;32m----> 1\u001b[0m \u001b[43mmat1\u001b[49m\u001b[38;5;241;43m.\u001b[39;49m\u001b[43mdot\u001b[49m\u001b[43m(\u001b[49m\u001b[43mmat2\u001b[49m\u001b[43m)\u001b[49m\n",
      "\u001b[1;31mValueError\u001b[0m: shapes (3,4) and (3,4) not aligned: 4 (dim 1) != 3 (dim 0)"
     ]
    }
   ],
   "source": [
    "mat1.dot(mat2)"
   ]
  },
  {
   "cell_type": "code",
   "execution_count": null,
   "id": "e1ed4d76-218a-405e-9a0d-7cfd1c90949c",
   "metadata": {},
   "outputs": [],
   "source": [
    "mat2 = mat2.T"
   ]
  },
  {
   "cell_type": "code",
   "execution_count": null,
   "id": "f9d4016c-f499-42d3-8a9d-80c3e7ca9df6",
   "metadata": {},
   "outputs": [],
   "source": [
    "mat1.dot(mat2)"
   ]
  },
  {
   "cell_type": "code",
   "execution_count": 20,
   "id": "e3fe15f1-b748-4c71-98c0-99e3cf9b173d",
   "metadata": {},
   "outputs": [
    {
     "data": {
      "text/plain": [
       "array([[1, 5, 9],\n",
       "       [2, 7, 7],\n",
       "       [8, 1, 6],\n",
       "       [2, 1, 6],\n",
       "       [0, 3, 8]])"
      ]
     },
     "execution_count": 20,
     "metadata": {},
     "output_type": "execute_result"
    }
   ],
   "source": [
    "sales = np.random.randint(10, size = (5, 3))\n",
    "sales"
   ]
  },
  {
   "cell_type": "code",
   "execution_count": 22,
   "id": "ecfc598e-36fd-49b0-a516-c820d2014b1a",
   "metadata": {},
   "outputs": [],
   "source": [
    "df = pd.DataFrame(sales, index = [\"Mon\", \"Tues\", \"Wed\",\"Thurs\",\"Fri\"], columns = [\"peanut\", \"jelly\", \"honey\"])"
   ]
  },
  {
   "cell_type": "code",
   "execution_count": 23,
   "id": "202c3774-dac1-42b1-ac0c-3d59e06cb06a",
   "metadata": {},
   "outputs": [
    {
     "data": {
      "text/html": [
       "<div>\n",
       "<style scoped>\n",
       "    .dataframe tbody tr th:only-of-type {\n",
       "        vertical-align: middle;\n",
       "    }\n",
       "\n",
       "    .dataframe tbody tr th {\n",
       "        vertical-align: top;\n",
       "    }\n",
       "\n",
       "    .dataframe thead th {\n",
       "        text-align: right;\n",
       "    }\n",
       "</style>\n",
       "<table border=\"1\" class=\"dataframe\">\n",
       "  <thead>\n",
       "    <tr style=\"text-align: right;\">\n",
       "      <th></th>\n",
       "      <th>peanut</th>\n",
       "      <th>jelly</th>\n",
       "      <th>honey</th>\n",
       "    </tr>\n",
       "  </thead>\n",
       "  <tbody>\n",
       "    <tr>\n",
       "      <th>Mon</th>\n",
       "      <td>1</td>\n",
       "      <td>5</td>\n",
       "      <td>9</td>\n",
       "    </tr>\n",
       "    <tr>\n",
       "      <th>Tues</th>\n",
       "      <td>2</td>\n",
       "      <td>7</td>\n",
       "      <td>7</td>\n",
       "    </tr>\n",
       "    <tr>\n",
       "      <th>Wed</th>\n",
       "      <td>8</td>\n",
       "      <td>1</td>\n",
       "      <td>6</td>\n",
       "    </tr>\n",
       "    <tr>\n",
       "      <th>Thurs</th>\n",
       "      <td>2</td>\n",
       "      <td>1</td>\n",
       "      <td>6</td>\n",
       "    </tr>\n",
       "    <tr>\n",
       "      <th>Fri</th>\n",
       "      <td>0</td>\n",
       "      <td>3</td>\n",
       "      <td>8</td>\n",
       "    </tr>\n",
       "  </tbody>\n",
       "</table>\n",
       "</div>"
      ],
      "text/plain": [
       "       peanut  jelly  honey\n",
       "Mon         1      5      9\n",
       "Tues        2      7      7\n",
       "Wed         8      1      6\n",
       "Thurs       2      1      6\n",
       "Fri         0      3      8"
      ]
     },
     "execution_count": 23,
     "metadata": {},
     "output_type": "execute_result"
    }
   ],
   "source": [
    "df"
   ]
  },
  {
   "cell_type": "code",
   "execution_count": 42,
   "id": "b55c3612-ea49-4f6b-85a6-c236414fb95c",
   "metadata": {},
   "outputs": [],
   "source": [
    "sale_price = np.array([10, 8, 12])\n",
    "sale_price\n",
    "prices = pd.DataFrame(sale_price.reshape(1,3), index = [\"Price\"], columns = [\"Price peanut\", \"Price jelly\", \"Price honey\"])"
   ]
  },
  {
   "cell_type": "code",
   "execution_count": 43,
   "id": "031d42fd-97e0-423f-be5a-653b4aadb87c",
   "metadata": {},
   "outputs": [
    {
     "data": {
      "text/html": [
       "<div>\n",
       "<style scoped>\n",
       "    .dataframe tbody tr th:only-of-type {\n",
       "        vertical-align: middle;\n",
       "    }\n",
       "\n",
       "    .dataframe tbody tr th {\n",
       "        vertical-align: top;\n",
       "    }\n",
       "\n",
       "    .dataframe thead th {\n",
       "        text-align: right;\n",
       "    }\n",
       "</style>\n",
       "<table border=\"1\" class=\"dataframe\">\n",
       "  <thead>\n",
       "    <tr style=\"text-align: right;\">\n",
       "      <th></th>\n",
       "      <th>peanut</th>\n",
       "      <th>jelly</th>\n",
       "      <th>honey</th>\n",
       "    </tr>\n",
       "  </thead>\n",
       "  <tbody>\n",
       "    <tr>\n",
       "      <th>Mon</th>\n",
       "      <td>1</td>\n",
       "      <td>5</td>\n",
       "      <td>9</td>\n",
       "    </tr>\n",
       "    <tr>\n",
       "      <th>Tues</th>\n",
       "      <td>2</td>\n",
       "      <td>7</td>\n",
       "      <td>7</td>\n",
       "    </tr>\n",
       "    <tr>\n",
       "      <th>Wed</th>\n",
       "      <td>8</td>\n",
       "      <td>1</td>\n",
       "      <td>6</td>\n",
       "    </tr>\n",
       "    <tr>\n",
       "      <th>Thurs</th>\n",
       "      <td>2</td>\n",
       "      <td>1</td>\n",
       "      <td>6</td>\n",
       "    </tr>\n",
       "    <tr>\n",
       "      <th>Fri</th>\n",
       "      <td>0</td>\n",
       "      <td>3</td>\n",
       "      <td>8</td>\n",
       "    </tr>\n",
       "  </tbody>\n",
       "</table>\n",
       "</div>"
      ],
      "text/plain": [
       "       peanut  jelly  honey\n",
       "Mon         1      5      9\n",
       "Tues        2      7      7\n",
       "Wed         8      1      6\n",
       "Thurs       2      1      6\n",
       "Fri         0      3      8"
      ]
     },
     "execution_count": 43,
     "metadata": {},
     "output_type": "execute_result"
    }
   ],
   "source": [
    "df"
   ]
  },
  {
   "cell_type": "code",
   "execution_count": 32,
   "id": "62a045e7-ae9d-4c61-9bf6-0b93168f4eb7",
   "metadata": {},
   "outputs": [
    {
     "data": {
      "text/html": [
       "<div>\n",
       "<style scoped>\n",
       "    .dataframe tbody tr th:only-of-type {\n",
       "        vertical-align: middle;\n",
       "    }\n",
       "\n",
       "    .dataframe tbody tr th {\n",
       "        vertical-align: top;\n",
       "    }\n",
       "\n",
       "    .dataframe thead th {\n",
       "        text-align: right;\n",
       "    }\n",
       "</style>\n",
       "<table border=\"1\" class=\"dataframe\">\n",
       "  <thead>\n",
       "    <tr style=\"text-align: right;\">\n",
       "      <th></th>\n",
       "      <th>Price peanut</th>\n",
       "      <th>Price jelly</th>\n",
       "      <th>Price honey</th>\n",
       "    </tr>\n",
       "  </thead>\n",
       "  <tbody>\n",
       "    <tr>\n",
       "      <th>Price</th>\n",
       "      <td>10</td>\n",
       "      <td>8</td>\n",
       "      <td>12</td>\n",
       "    </tr>\n",
       "  </tbody>\n",
       "</table>\n",
       "</div>"
      ],
      "text/plain": [
       "       Price peanut  Price jelly  Price honey\n",
       "Price            10            8           12"
      ]
     },
     "execution_count": 32,
     "metadata": {},
     "output_type": "execute_result"
    }
   ],
   "source": [
    "prices"
   ]
  },
  {
   "cell_type": "code",
   "execution_count": 46,
   "id": "1329ac6c-ec72-44b8-ba07-843b6dfc189a",
   "metadata": {},
   "outputs": [],
   "source": [
    "total_sale_of_day = np.dot(df, prices.T)"
   ]
  },
  {
   "cell_type": "code",
   "execution_count": 47,
   "id": "c2b8c99f-ccf4-4766-9ac4-08e8f79c9e9e",
   "metadata": {},
   "outputs": [
    {
     "data": {
      "text/plain": [
       "array([[158],\n",
       "       [160],\n",
       "       [160],\n",
       "       [100],\n",
       "       [120]])"
      ]
     },
     "execution_count": 47,
     "metadata": {},
     "output_type": "execute_result"
    }
   ],
   "source": [
    "total_sale_of_day"
   ]
  },
  {
   "cell_type": "code",
   "execution_count": 49,
   "id": "568434d9-1e83-4520-a538-57d3658daec0",
   "metadata": {},
   "outputs": [],
   "source": [
    "df[\"Total sale of day\"] = total_sale_of_day"
   ]
  },
  {
   "cell_type": "code",
   "execution_count": 50,
   "id": "40dfcb56-5fc1-4ff3-a7e1-4294dc692faf",
   "metadata": {},
   "outputs": [
    {
     "data": {
      "text/html": [
       "<div>\n",
       "<style scoped>\n",
       "    .dataframe tbody tr th:only-of-type {\n",
       "        vertical-align: middle;\n",
       "    }\n",
       "\n",
       "    .dataframe tbody tr th {\n",
       "        vertical-align: top;\n",
       "    }\n",
       "\n",
       "    .dataframe thead th {\n",
       "        text-align: right;\n",
       "    }\n",
       "</style>\n",
       "<table border=\"1\" class=\"dataframe\">\n",
       "  <thead>\n",
       "    <tr style=\"text-align: right;\">\n",
       "      <th></th>\n",
       "      <th>peanut</th>\n",
       "      <th>jelly</th>\n",
       "      <th>honey</th>\n",
       "      <th>Total sale of day</th>\n",
       "    </tr>\n",
       "  </thead>\n",
       "  <tbody>\n",
       "    <tr>\n",
       "      <th>Mon</th>\n",
       "      <td>1</td>\n",
       "      <td>5</td>\n",
       "      <td>9</td>\n",
       "      <td>158</td>\n",
       "    </tr>\n",
       "    <tr>\n",
       "      <th>Tues</th>\n",
       "      <td>2</td>\n",
       "      <td>7</td>\n",
       "      <td>7</td>\n",
       "      <td>160</td>\n",
       "    </tr>\n",
       "    <tr>\n",
       "      <th>Wed</th>\n",
       "      <td>8</td>\n",
       "      <td>1</td>\n",
       "      <td>6</td>\n",
       "      <td>160</td>\n",
       "    </tr>\n",
       "    <tr>\n",
       "      <th>Thurs</th>\n",
       "      <td>2</td>\n",
       "      <td>1</td>\n",
       "      <td>6</td>\n",
       "      <td>100</td>\n",
       "    </tr>\n",
       "    <tr>\n",
       "      <th>Fri</th>\n",
       "      <td>0</td>\n",
       "      <td>3</td>\n",
       "      <td>8</td>\n",
       "      <td>120</td>\n",
       "    </tr>\n",
       "  </tbody>\n",
       "</table>\n",
       "</div>"
      ],
      "text/plain": [
       "       peanut  jelly  honey  Total sale of day\n",
       "Mon         1      5      9                158\n",
       "Tues        2      7      7                160\n",
       "Wed         8      1      6                160\n",
       "Thurs       2      1      6                100\n",
       "Fri         0      3      8                120"
      ]
     },
     "execution_count": 50,
     "metadata": {},
     "output_type": "execute_result"
    }
   ],
   "source": [
    "df"
   ]
  },
  {
   "cell_type": "code",
   "execution_count": null,
   "id": "581426e4-94c8-46e3-bd22-5043c8bb2ba6",
   "metadata": {},
   "outputs": [],
   "source": []
  }
 ],
 "metadata": {
  "kernelspec": {
   "display_name": "Python 3 (ipykernel)",
   "language": "python",
   "name": "python3"
  },
  "language_info": {
   "codemirror_mode": {
    "name": "ipython",
    "version": 3
   },
   "file_extension": ".py",
   "mimetype": "text/x-python",
   "name": "python",
   "nbconvert_exporter": "python",
   "pygments_lexer": "ipython3",
   "version": "3.11.2"
  }
 },
 "nbformat": 4,
 "nbformat_minor": 5
}
